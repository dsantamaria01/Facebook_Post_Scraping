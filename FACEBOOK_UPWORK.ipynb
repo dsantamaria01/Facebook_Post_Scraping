{
 "cells": [
  {
   "cell_type": "code",
   "execution_count": 153,
   "id": "48ea0a97",
   "metadata": {},
   "outputs": [
    {
     "name": "stdout",
     "output_type": "stream",
     "text": [
      "The numbers of comments is : 17\n",
      "Bu Furqaan\n",
      "Sulaimon Oyekanmi\n",
      "Akintola Glory\n",
      "Chinny Peters\n",
      "Victor Ogbu\n",
      "Mercy Spice\n",
      "Abiola Ademoye\n",
      "Praise E Akinwole\n",
      "Itimi Kelly\n",
      "Joel Uwah\n",
      "Ayandele Gabriel\n",
      "Iammrzee Sam Esobe\n",
      "Uthman Psyheed\n",
      "Og Funnyman Runny\n",
      "Marvellous Aghahowa\n",
      "Brainier Barnabas\n",
      "Vincent Offiong\n",
      "The numbers of LIKEs is : 8\n"
     ]
    },
    {
     "data": {
      "text/plain": [
       "([<matplotlib.axis.XTick at 0x26bcfe0b550>,\n",
       "  <matplotlib.axis.XTick at 0x26bcfe0b580>,\n",
       "  <matplotlib.axis.XTick at 0x26bcfe0aad0>,\n",
       "  <matplotlib.axis.XTick at 0x26bcfe2d9f0>],\n",
       " [Text(0, 0, '3w'), Text(1, 0, '2w'), Text(2, 0, '1w'), Text(3, 0, '5d')])"
      ]
     },
     "execution_count": 153,
     "metadata": {},
     "output_type": "execute_result"
    },
    {
     "data": {
      "image/png": "[encoded data removed]",
      "text/plain": [
       "<Figure size 432x288 with 1 Axes>"
      ]
     },
     "metadata": {
      "needs_background": "light"
     },
     "output_type": "display_data"
    }
   ],
   "source": [
    "from selenium import webdriver\n",
    "import time\n",
    "from selenium.webdriver.common.by import By\n",
    "from selenium.webdriver.support.ui import WebDriverWait\n",
    "from selenium.webdriver.support import expected_conditions as EC\n",
    "from selenium.webdriver.common.action_chains import ActionChains \n",
    "from selenium.webdriver.common.keys import Keys # para el enter\n",
    "import os\n",
    "import matplotlib.pyplot as plt\n",
    "\n",
    "\n",
    "page = 'https://www.facebook.com/groups/540611750431876/posts/836356057524109/?comment_id=840[%E2%80%A6]19&notif_id=1661369465981057&notif_t=group_comment&ref=notif'\n",
    "driver = webdriver.Edge()\n",
    "driver.get(page)\n",
    "driver.maximize_window()\n",
    "\n",
    "WebDriverWait(driver, 30).until(EC.element_to_be_clickable((By.XPATH,\"//*[@class='om3e55n1 g4tp4svg alzwoclg jez8cy9q jcxyg2ei i85zmo3j sr926ui1 jl2a5g8c k7n6ui8p b41d885q hmqrhxox got7tec9 frfouenu bonavkto djs4p424 r7bn319e bdao358l aesu6q9g e4ay1f3w a5wdgl2o ed17d2qt' ]\"))).click()\n",
    "\n",
    "info_raw = driver.find_elements(By.XPATH,\".//*[@class='f7rl1if4 adechonz f6oz4yja dahkl6ri axrg9lpx rufpak1n qtovjlwq qbmienfq rfyhaz4c rdmi1yqr ohrdq8us nswx41af fawcizw8 l1aqi3e3 sdu1flz4']\")\n",
    "for n in range(len(info_raw)):\n",
    "    if \"Comments\" in info_raw[n].text:\n",
    "        pos = n\n",
    "        break\n",
    "raw_comm = info_raw[pos].text\n",
    "num_comm = int(re.findall(\"\\d+\", raw_comm)[0]) \n",
    "print(\"The numbers of comments is : \" + str(num_comm)) \n",
    "\n",
    "\n",
    "r = driver.find_elements(By.XPATH,\".//*[@class='gvxzyvdx aeinzg81 t7p7dqev gh25dzvf exr7barw b6ax4al1 gem102v4 ncib64c9 mrvwc6qr sx8pxkcf f597kf1v cpcgwwas m2nijcs8 hxfwr5lz k1z55t6l oog5qr5w innypi6y rtxb060y']\")\n",
    "r[3].click()\n",
    "\n",
    "time.sleep(1)\n",
    "\n",
    "nombres = driver.find_elements(By.XPATH,\".//*[@class='gvxzyvdx aeinzg81 t7p7dqev gh25dzvf exr7barw b6ax4al1 gem102v4 ncib64c9 mrvwc6qr sx8pxkcf f597kf1v cpcgwwas f5mw3jnl szxhu1pg nfkogyam kkmhubc1 innypi6y pbevjfx6']\")\n",
    "for n in range(num_comm):\n",
    "    print(nombres[n].text)\n",
    "    \n",
    "LIKES = driver.find_element(By.XPATH,\".//*[@class='nnzkd6d7']\").text \n",
    "print(\"The numbers of LIKEs is : \" + str(LIKES))\n",
    "\n",
    "\n",
    "week_raw_t =[0]*num_comm\n",
    "week_raw = driver.find_elements(By.XPATH,\".//*[@class='h0zv973x aglvbi8b gmtvw9xm kjdc1dyq iec8yc8l ed1y18jk saacjlin']\")\n",
    "for n in range(num_comm):\n",
    "    week_raw_t[n]= week_raw[n].text\n",
    "\n",
    "\n",
    "counts = {}\n",
    "for n in week_raw_t:\n",
    "    counts[n] = counts.get(n, 0) + 1\n",
    "\n",
    "D = counts\n",
    "plt.bar(range(len(D)), list(D.values()), align='center')\n",
    "plt.xticks(range(len(D)), list(D.keys()))"
   ]
  },
  {
   "cell_type": "code",
   "execution_count": null,
   "id": "7b4a185d",
   "metadata": {},
   "outputs": [],
   "source": []
  },
  {
   "cell_type": "code",
   "execution_count": null,
   "id": "b32ca78c",
   "metadata": {},
   "outputs": [],
   "source": []
  },
  {
   "cell_type": "code",
   "execution_count": 110,
   "id": "c2dbc8e2",
   "metadata": {},
   "outputs": [],
   "source": []
  },
  {
   "cell_type": "code",
   "execution_count": null,
   "id": "5b6c01a1",
   "metadata": {},
   "outputs": [],
   "source": []
  },
  {
   "cell_type": "code",
   "execution_count": null,
   "id": "03a89b6e",
   "metadata": {},
   "outputs": [],
   "source": []
  },
  {
   "cell_type": "code",
   "execution_count": null,
   "id": "2f285c44",
   "metadata": {},
   "outputs": [],
   "source": []
  },
  {
   "cell_type": "code",
   "execution_count": null,
   "id": "8da66221",
   "metadata": {},
   "outputs": [],
   "source": []
  },
  {
   "cell_type": "code",
   "execution_count": null,
   "id": "d5d1429a",
   "metadata": {},
   "outputs": [],
   "source": []
  },
  {
   "cell_type": "code",
   "execution_count": null,
   "id": "9dd79399",
   "metadata": {},
   "outputs": [],
   "source": []
  }
 ],
 "metadata": {
  "kernelspec": {
   "display_name": "Python 3 (ipykernel)",
   "language": "python",
   "name": "python3"
  },
  "language_info": {
   "codemirror_mode": {
    "name": "ipython",
    "version": 3
   },
   "file_extension": ".py",
   "mimetype": "text/x-python",
   "name": "python",
   "nbconvert_exporter": "python",
   "pygments_lexer": "ipython3",
   "version": "3.10.5"
  }
 },
 "nbformat": 4,
 "nbformat_minor": 5
}
